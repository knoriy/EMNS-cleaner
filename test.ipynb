{
 "cells": [
  {
   "cell_type": "code",
   "execution_count": 1,
   "metadata": {},
   "outputs": [
    {
     "ename": "ModuleNotFoundError",
     "evalue": "No module named 'tqdm'",
     "output_type": "error",
     "traceback": [
      "\u001b[0;31m---------------------------------------------------------------------------\u001b[0m",
      "\u001b[0;31mModuleNotFoundError\u001b[0m                       Traceback (most recent call last)",
      "\u001b[1;32m/home/knoriy/Documents/phd/EMNS/cleaner/test.ipynb Cell 1\u001b[0m in \u001b[0;36m<cell line: 2>\u001b[0;34m()\u001b[0m\n\u001b[1;32m      <a href='vscode-notebook-cell:/home/knoriy/Documents/phd/EMNS/cleaner/test.ipynb#W0sZmlsZQ%3D%3D?line=0'>1</a>\u001b[0m \u001b[39mimport\u001b[39;00m \u001b[39mglob\u001b[39;00m\n\u001b[0;32m----> <a href='vscode-notebook-cell:/home/knoriy/Documents/phd/EMNS/cleaner/test.ipynb#W0sZmlsZQ%3D%3D?line=1'>2</a>\u001b[0m \u001b[39mimport\u001b[39;00m \u001b[39mtqdm\u001b[39;00m\n\u001b[1;32m      <a href='vscode-notebook-cell:/home/knoriy/Documents/phd/EMNS/cleaner/test.ipynb#W0sZmlsZQ%3D%3D?line=2'>3</a>\u001b[0m \u001b[39mimport\u001b[39;00m \u001b[39mos\u001b[39;00m\n\u001b[1;32m      <a href='vscode-notebook-cell:/home/knoriy/Documents/phd/EMNS/cleaner/test.ipynb#W0sZmlsZQ%3D%3D?line=3'>4</a>\u001b[0m \u001b[39mimport\u001b[39;00m \u001b[39mglob\u001b[39;00m\n",
      "\u001b[0;31mModuleNotFoundError\u001b[0m: No module named 'tqdm'"
     ]
    }
   ],
   "source": [
    "import glob\n",
    "import tqdm\n",
    "import os\n",
    "import glob\n",
    "import pandas as pd\n",
    "import sys\n",
    "import tarfile\n",
    "import json\n",
    "import shutil\n",
    "\n",
    "from concurrent.futures import ThreadPoolExecutor, as_completed\n",
    "\n",
    "sys.path.append(os.path.dirname(os.path.dirname(os.path.realpath(__file__))))\n",
    "from utils import audio_to_flac"
   ]
  },
  {
   "cell_type": "code",
   "execution_count": 2,
   "metadata": {},
   "outputs": [],
   "source": [
    "emns_csv_path = '/home/knoriy/Documents/phd/dataset_collection_tool/django_dataset_collection_tool/audio_recorder_utterances.csv'\n",
    "emns_audio_path = '/home/knoriy/Documents/phd/EMNS/wavs/'\n"
   ]
  },
  {
   "cell_type": "code",
   "execution_count": 1,
   "metadata": {},
   "outputs": [
    {
     "ename": "NameError",
     "evalue": "name 'pd' is not defined",
     "output_type": "error",
     "traceback": [
      "\u001b[0;31m---------------------------------------------------------------------------\u001b[0m",
      "\u001b[0;31mNameError\u001b[0m                                 Traceback (most recent call last)",
      "\u001b[1;32m/home/knoriy/Documents/phd/EMNS/cleaner/test.ipynb Cell 3\u001b[0m in \u001b[0;36m<cell line: 1>\u001b[0;34m()\u001b[0m\n\u001b[0;32m----> <a href='vscode-notebook-cell:/home/knoriy/Documents/phd/EMNS/cleaner/test.ipynb#W2sZmlsZQ%3D%3D?line=0'>1</a>\u001b[0m raw_df \u001b[39m=\u001b[39m pd\u001b[39m.\u001b[39mread_csv(emns_csv_path, sep\u001b[39m=\u001b[39m\u001b[39m\"\u001b[39m\u001b[39m|\u001b[39m\u001b[39m\"\u001b[39m)\u001b[39m.\u001b[39mdropna()\n",
      "\u001b[0;31mNameError\u001b[0m: name 'pd' is not defined"
     ]
    }
   ],
   "source": [
    "raw_df = pd.read_csv(emns_csv_path, sep=\"|\").dropna()"
   ]
  },
  {
   "cell_type": "markdown",
   "metadata": {},
   "source": [
    "# Create MFA Format"
   ]
  },
  {
   "cell_type": "code",
   "execution_count": null,
   "metadata": {},
   "outputs": [],
   "source": [
    "\n",
    "\n",
    "def convert_and_json_dump(file:str, dest:str, df, overwrite:bool=False):\n",
    "    if os.path.isfile(dest) and overwrite==False:\n",
    "        print(f'{dest} already exists, skiping')\n",
    "        return\n",
    "\n",
    "    audio_to_flac(file, dest, segment_start=df['begin_time'], segment_end=df['end_time'])\n",
    "    with open(dest.replace('.flac', '.txt'), 'w') as f:\n",
    "        f.write(df['text'])\n",
    "        # json.dump({'filename': os.path.join(*dest.split('/')[5:]), 'text':[df['text']], 'original_data':df['original_data']}, f)\n",
    "\n",
    "\n",
    "def split_all_audio_files(df, dest_root_path, max_workers=96):\n",
    "    if not os.path.exists(dest_root_path):\n",
    "        raise FileNotFoundError(f'Please Check {dest_root_path} exists')\n",
    "\n",
    "    l = len(df)\n",
    "    with tqdm.tqdm(total=l, desc=f'Processing {dest_root_path}') as pbar:\n",
    "        with ThreadPoolExecutor(max_workers=max_workers) as executor:\n",
    "            threads = [executor.submit(convert_and_json_dump, row[0], os.path.join(dest_root_path, f'{i}.flac'), row) for i, row in enumerate(df.iloc())]\n",
    "            for _ in as_completed(threads):\n",
    "                pbar.update(1)"
   ]
  },
  {
   "cell_type": "code",
   "execution_count": null,
   "metadata": {},
   "outputs": [],
   "source": []
  }
 ],
 "metadata": {
  "kernelspec": {
   "display_name": "Python 3.8.10 64-bit",
   "language": "python",
   "name": "python3"
  },
  "language_info": {
   "codemirror_mode": {
    "name": "ipython",
    "version": 3
   },
   "file_extension": ".py",
   "mimetype": "text/x-python",
   "name": "python",
   "nbconvert_exporter": "python",
   "pygments_lexer": "ipython3",
   "version": "3.8.10"
  },
  "orig_nbformat": 4,
  "vscode": {
   "interpreter": {
    "hash": "916dbcbb3f70747c44a77c7bcd40155683ae19c65e1c03b4aa3499c5328201f1"
   }
  }
 },
 "nbformat": 4,
 "nbformat_minor": 2
}
